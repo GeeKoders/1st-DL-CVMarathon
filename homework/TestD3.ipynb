{
 "cells": [
  {
   "cell_type": "code",
   "execution_count": 2,
   "metadata": {},
   "outputs": [],
   "source": [
    "import cv2\n",
    "import numpy as np\n",
    "\n",
    "img_path = \"data/lena.png\"\n",
    "\n",
    "# 以彩色的圖片的方式載入\n",
    "img = cv2.imread(img_path, cv2.IMREAD_COLOR)\n"
   ]
  },
  {
   "cell_type": "code",
   "execution_count": 3,
   "metadata": {},
   "outputs": [],
   "source": [
    "# 為了要改變飽和度，我們先把 color space 轉成 HSL 格式 (OpenCV 表示順序是 HLS)\n",
    "img_hls = cv2.cvtColor(img, cv2.COLOR_BGR2HLS)\n",
    "change_percentage = 0.2\n",
    "# 在HLS color space減少飽和度\n",
    "# 操作飽和度時候需要轉換成百分比(小數點)\n",
    "img_hls_down = img_hls.astype(\"float32\")\n",
    "img_hls_down[...,-1] = img_hls_down[...,-1] / 255 - change_percentage\n",
    "img_hls_down[img_hls_down[...,-1] < 0] = 0\n",
    "#OpenCVv顯示圖片會以uint8(可儲存範圍0~255)方式表示\n",
    "img_hls_down[...,-1] = img_hls_down[...,-1]*255\n",
    "img_hls_down = img_hls_down.astype(\"uint8\")\n",
    "\n",
    "\n",
    "# 在HLS color space增加飽和度\n",
    "img_hls_up = img_hls.astype(\"float32\")\n",
    "img_hls_up[...,-1] = img_hls_up[...,-1] / 255 + change_percentage\n",
    "img_hls_up[img_hls_up[...,-1] > 1] = 1\n",
    "img_hls_up[...,-1] = img_hls_up[...,-1]*255\n",
    "img_hls_up = img_hls_up.astype(\"uint8\")\n",
    "\n",
    "img_hls_down = cv2.cvtColor(img_hls_down, cv2.COLOR_HLS2BGR)\n",
    "img_hls_up = cv2.cvtColor(img_hls_up, cv2.COLOR_HLS2BGR)\n",
    "\n",
    "# 組合圖片 + 顯示圖片\n",
    "img_hls_change = np.hstack((img, img_hls_down, img_hls_up))\n",
    "while True:\n",
    "    cv2.imshow(\"change saturation\", img_hls_change)\n",
    "    \n",
    "    k = cv2.waitKey(0)\n",
    "    if k == 27:\n",
    "        cv2.destroyAllWindows\n",
    "        break "
   ]
  },
  {
   "cell_type": "code",
   "execution_count": 4,
   "metadata": {},
   "outputs": [],
   "source": [
    "# 轉為灰階圖片\n",
    "img_gray = cv2.cvtColor(img, cv2.COLOR_BGR2GRAY)\n",
    "\n",
    "# 灰階圖片直方圖均衡\n",
    "img_gray_equal = cv2.equalizeHist(img_gray)\n",
    "\n",
    "# 組合圖片 + 顯示圖片\n",
    "img_gray_equalHist = np.hstack((img_gray, img_gray_equal))\n",
    "\n",
    "while True:\n",
    "    # 比較灰階圖片是否有做直方圖均衡的差異\n",
    "    cv2.imshow('gray equal histogram', img_gray_equalHist)\n",
    "\n",
    "    k = cv2.waitKey(0)\n",
    "    if k == 27:\n",
    "        cv2.destroyAllWindows()\n",
    "        break"
   ]
  },
  {
   "cell_type": "code",
   "execution_count": 6,
   "metadata": {},
   "outputs": [],
   "source": [
    "# alpha: 控制對比度 (1.0~3.0)\n",
    "# beta: 控制明亮度 (0~255)\n",
    "\n",
    "add_contrast = cv2.convertScaleAbs(img, alpha=2.0, beta=0)\n",
    "add_lishness = cv2.convertScaleAbs(img, alpha=1.0, beta=50)\n",
    "\n",
    "img_contrast_light = np.hstack((img, add_contrast, add_lishness))\n",
    "while True:\n",
    "    # 比較不同程度的對比 / 明亮\n",
    "    cv2.imshow('adjust contrast and brighness', img_contrast_light)\n",
    "    k = cv2.waitKey(0)\n",
    "    if k == 27:\n",
    "        cv2.destroyAllWindows()\n",
    "        break"
   ]
  },
  {
   "cell_type": "code",
   "execution_count": null,
   "metadata": {},
   "outputs": [],
   "source": []
  }
 ],
 "metadata": {
  "kernelspec": {
   "display_name": "Python 3",
   "language": "python",
   "name": "python3"
  },
  "language_info": {
   "codemirror_mode": {
    "name": "ipython",
    "version": 3
   },
   "file_extension": ".py",
   "mimetype": "text/x-python",
   "name": "python",
   "nbconvert_exporter": "python",
   "pygments_lexer": "ipython3",
   "version": "3.7.3"
  },
  "toc": {
   "base_numbering": 1,
   "nav_menu": {},
   "number_sections": true,
   "sideBar": true,
   "skip_h1_title": false,
   "title_cell": "Table of Contents",
   "title_sidebar": "Contents",
   "toc_cell": false,
   "toc_position": {},
   "toc_section_display": true,
   "toc_window_display": false
  }
 },
 "nbformat": 4,
 "nbformat_minor": 2
}
